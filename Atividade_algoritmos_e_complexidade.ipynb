{
  "nbformat": 4,
  "nbformat_minor": 0,
  "metadata": {
    "colab": {
      "provenance": []
    },
    "kernelspec": {
      "name": "python3",
      "display_name": "Python 3"
    },
    "language_info": {
      "name": "python"
    }
  },
  "cells": [
    {
      "cell_type": "markdown",
      "source": [
        "Código 1 - Complexidade O(1) - Constante\n",
        "  Descrição:\n",
        "  Este algoritmo demonstra uma operação de complexidade constante. A função obter_primeiro_elemento acessa e retorna o primeiro item de uma lista. O tempo para executar esta operação é\n",
        "  sempre o mesmo, não importa se a lista tem 10 ou 1 milhão de elementos, pois o acesso a um elemento por índice em uma lista é uma operação direta. Por isso, a complexidade de tempo é\n",
        "  O(1). A complexidade de espaço também é O(1), pois a função não aloca memória adicional que dependa do tamanho da entrada."
      ],
      "metadata": {
        "id": "oA95KxLH5vjd"
      }
    },
    {
      "cell_type": "code",
      "source": [
        "def obter_primeiro_elemento(lista):\n",
        "  \"\"\"\n",
        "  Retorna o primeiro elemento de uma lista.\n",
        "  \"\"\"\n",
        "  # Passo 1: Acessar o elemento no índice 0 da lista.\n",
        "  # Esta é uma operação de tempo constante.\n",
        "  if lista:\n",
        "    return lista[0]\n",
        "  return None\n",
        "\n",
        "# --- Análise de Complexidade ---\n",
        "# Complexidade Temporal: O(1)\n",
        "# A função executa um número fixo de operações, independentemente do tamanho da lista.\n",
        "\n",
        "# Complexidade Espacial: O(1)\n",
        "# A memória utilizada não escala com o tamanho da entrada.\n",
        "\n",
        "# --- Exemplo de Uso ---\n",
        "minha_lista = [100, 200, 300]\n",
        "primeiro_elemento = obter_primeiro_elemento(minha_lista)\n",
        "print(f\"Lista de entrada: {minha_lista}\")\n",
        "print(f\"Saída: O primeiro elemento é {primeiro_elemento}\")\n",
        "print(\"-\" * 20)\n",
        "\n",
        "lista_vazia = []\n",
        "primeiro_elemento = obter_primeiro_elemento(lista_vazia)\n",
        "print(f\"Lista de entrada: {lista_vazia}\")\n",
        "print(f\"Saída: A lista está vazia, retornou {primeiro_elemento}\")\n",
        "\n",
        "# --- Saída Esperada ---\n",
        "# Lista de entrada: [100, 200, 300]\n",
        "# Saída: O primeiro elemento é 100\n",
        "# --------------------\n",
        "# Lista de entrada: []\n",
        "# Saída: A lista está vazia, retornou None"
      ],
      "metadata": {
        "colab": {
          "base_uri": "https://localhost:8080/"
        },
        "id": "6erZ6KHP5Sz2",
        "outputId": "02e3b523-211d-4cac-fd68-98dde1bc8275"
      },
      "execution_count": 15,
      "outputs": [
        {
          "output_type": "stream",
          "name": "stdout",
          "text": [
            "Lista de entrada: [100, 200, 300]\n",
            "Saída: O primeiro elemento é 100\n",
            "--------------------\n",
            "Lista de entrada: []\n",
            "Saída: A lista está vazia, retornou None\n"
          ]
        }
      ]
    },
    {
      "cell_type": "markdown",
      "source": [
        " Código 2 - Complexidade O(n) - Linear\n",
        "  Descrição:\n",
        "  Este algoritmo representa uma complexidade linear. A função encontrar_soma_total calcula a soma de todos os elementos em uma lista. Para fazer isso, ela precisa percorrer cada um dos n\n",
        "  elementos da lista uma vez. Portanto, o tempo de execução cresce de forma diretamente proporcional ao número de elementos na lista. Se a lista dobrar de tamanho, o tempo de execução\n",
        "  também dobrará. A complexidade de espaço é O(1), pois utiliza apenas uma variável (soma_total) para armazenar a soma, independentemente do tamanho da lista."
      ],
      "metadata": {
        "id": "Z3EliPMh50x7"
      }
    },
    {
      "cell_type": "code",
      "source": [
        "def encontrar_soma_total(lista):\n",
        "  \"\"\"\n",
        "  Calcula a soma de todos os números em uma lista.\n",
        "  \"\"\"\n",
        "  # Passo 1: Inicializar uma variável para armazenar a soma.\n",
        "  soma_total = 0\n",
        "\n",
        "  # Passo 2: Iterar sobre cada elemento da lista.\n",
        "  # O loop será executado 'n' vezes, onde 'n' é o número de elementos.\n",
        "  for numero in lista:\n",
        "    # Passo 3: Adicionar o elemento atual à soma total.\n",
        "    soma_total += numero\n",
        "\n",
        "  # Passo 4: Retornar a soma final.\n",
        "  return soma_total\n",
        "\n",
        "# --- Análise de Complexidade ---\n",
        "# Complexidade Temporal: O(n)\n",
        "# O tempo de execução é diretamente proporcional ao número de elementos (n) na lista.\n",
        "\n",
        "# Complexidade Espacial: O(1)\n",
        "# A memória extra utilizada (para a variável 'soma_total') é constante.\n",
        "\n",
        "# --- Exemplo de Uso ---\n",
        "minha_lista = [10, 20, 30, 40]\n",
        "soma = encontrar_soma_total(minha_lista)\n",
        "print(f\"Lista de entrada: {minha_lista}\")\n",
        "print(f\"Saída: A soma total é {soma}\")\n",
        "\n",
        "# --- Saída Esperada ---\n",
        "# Lista de entrada: [10, 20, 30, 40]\n",
        "# Saída: A soma total é 100"
      ],
      "metadata": {
        "colab": {
          "base_uri": "https://localhost:8080/"
        },
        "id": "iBssqKVr5aTM",
        "outputId": "4653a9f7-96cb-401d-f1ba-ab059ce8f401"
      },
      "execution_count": 18,
      "outputs": [
        {
          "output_type": "stream",
          "name": "stdout",
          "text": [
            "Lista de entrada: [10, 20, 30, 40]\n",
            "Saída: A soma total é 100\n"
          ]
        }
      ]
    },
    {
      "cell_type": "markdown",
      "source": [
        " Código 3 - Complexidade O(n²) - Quadrática\n",
        "  Descrição:\n",
        "  Este algoritmo demonstra uma complexidade quadrática. A função possui_pares_com_soma_zero verifica se existe um par de números em uma lista cuja soma seja igual a zero. Ela faz isso\n",
        "  usando dois laços aninhados: o laço externo percorre cada elemento, e o laço interno percorre os elementos restantes para encontrar um par. Isso resulta em aproximadamente n * n (ou n²)\n",
        "  comparações. O tempo de execução cresce quadraticamente com o tamanho da lista, tornando-o ineficiente para listas grandes. A complexidade de espaço é O(1)."
      ],
      "metadata": {
        "id": "R0Y7fMFc6BTT"
      }
    },
    {
      "cell_type": "code",
      "source": [
        "def possui_pares_com_soma_zero(lista):\n",
        "  \"\"\"\n",
        "  Verifica se há um par de números na lista cuja soma é zero.\n",
        "  \"\"\"\n",
        "  n = len(lista)\n",
        "  # Passo 1: O primeiro loop itera do primeiro ao último elemento.\n",
        "  for i in range(n):\n",
        "    # Passo 2: O segundo loop itera do elemento seguinte (i + 1) ao último.\n",
        "    # Isso evita comparar um elemento com ele mesmo e repetir pares.\n",
        "    for j in range(i + 1, n):\n",
        "      # Passo 3: Verifica se a soma do par de elementos é zero.\n",
        "      if lista[i] + lista[j] == 0:\n",
        "        # Se encontrarmos um par, retornamos True imediatamente.\n",
        "        print(f\"Par encontrado: ({lista[i]}, {lista[j]})\")\n",
        "        return True\n",
        "\n",
        "  # Passo 4: Se os loops terminarem sem encontrar pares, retorna False.\n",
        "  return False\n",
        "\n",
        "# --- Análise de Complexidade ---\n",
        "# Complexidade Temporal: O(n²)\n",
        "# Devido aos dois loops aninhados, o número de operações é proporcional a n².\n",
        "\n",
        "# Complexidade Espacial: O(1)\n",
        "# A memória extra utilizada é constante (variáveis de controle dos loops).\n",
        "\n",
        "# --- Exemplo de Uso ---\n",
        "lista_com_par = [2, -3, 1, 10, -2, 5]\n",
        "resultado = possui_pares_com_soma_zero(lista_com_par)\n",
        "print(f\"Lista de entrada: {lista_com_par}\")\n",
        "print(f\"Saída: Possui par com soma zero? {resultado}\")\n",
        "print(\"-\" * 20)\n",
        "\n",
        "lista_sem_par = [1, 2, 3, 4, 5]\n",
        "resultado = possui_pares_com_soma_zero(lista_sem_par)\n",
        "print(f\"Lista de entrada: {lista_sem_par}\")\n",
        "print(f\"Saída: Possui par com soma zero? {resultado}\")\n",
        "\n",
        "\n",
        "# --- Saída Esperada ---\n",
        "# Par encontrado: (2, -2)\n",
        "# Lista de entrada: [2, -3, 1, 10, -2, 5]\n",
        "# Saída: Possui par com soma zero? True\n",
        "# --------------------\n",
        "# Lista de entrada: [1, 2, 3, 4, 5]\n",
        "# Saída: Possui par com soma zero? False"
      ],
      "metadata": {
        "colab": {
          "base_uri": "https://localhost:8080/"
        },
        "id": "O0kn7iLI5lIX",
        "outputId": "ce19862f-9739-4f56-e35d-cc903ca22cb5"
      },
      "execution_count": 21,
      "outputs": [
        {
          "output_type": "stream",
          "name": "stdout",
          "text": [
            "Par encontrado: (2, -2)\n",
            "Lista de entrada: [2, -3, 1, 10, -2, 5]\n",
            "Saída: Possui par com soma zero? True\n",
            "--------------------\n",
            "Lista de entrada: [1, 2, 3, 4, 5]\n",
            "Saída: Possui par com soma zero? False\n"
          ]
        }
      ]
    }
  ]
}